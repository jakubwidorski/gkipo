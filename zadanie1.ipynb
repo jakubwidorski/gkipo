{
  "nbformat": 4,
  "nbformat_minor": 0,
  "metadata": {
    "colab": {
      "provenance": [],
      "toc_visible": true,
      "authorship_tag": "ABX9TyM7ZQOJZito1j0nwmNXiRd4",
      "include_colab_link": true
    },
    "kernelspec": {
      "name": "python3",
      "display_name": "Python 3"
    },
    "language_info": {
      "name": "python"
    }
  },
  "cells": [
    {
      "cell_type": "markdown",
      "metadata": {
        "id": "view-in-github",
        "colab_type": "text"
      },
      "source": [
        "<a href=\"https://colab.research.google.com/github/jakubwidorski/gkipo/blob/main/zadanie1.ipynb\" target=\"_parent\"><img src=\"https://colab.research.google.com/assets/colab-badge.svg\" alt=\"Open In Colab\"/></a>"
      ]
    },
    {
      "cell_type": "code",
      "execution_count": null,
      "metadata": {
        "id": "38wQ30rb8edD"
      },
      "outputs": [],
      "source": [
        "import cv2\n",
        "import numpy as np\n",
        "import urllib.request\n",
        "import matplotlib.pyplot as plt\n"
      ]
    },
    {
      "cell_type": "code",
      "source": [
        "url = 'https://upload.wikimedia.org/wikipedia/commons/thumb/e/ec/Mona_Lisa%2C_by_Leonardo_da_Vinci%2C_from_C2RMF_retouched.jpg/250px-Mona_Lisa%2C_by_Leonardo_da_Vinci%2C_from_C2RMF_retouched.jpg'\n",
        "\n",
        "headers = {'User-Agent': 'Mozilla/5.0'}\n",
        "request = urllib.request.Request(url,headers=headers)\n",
        "with urllib.request.urlopen(request) as response:\n",
        "    image_data=response.read()\n",
        "\n",
        "arr = np.asarray(bytearray(image_data), dtype=np.uint8)\n"
      ],
      "metadata": {
        "id": "qB8CuMAE-G6S"
      },
      "execution_count": null,
      "outputs": []
    }
  ]
}